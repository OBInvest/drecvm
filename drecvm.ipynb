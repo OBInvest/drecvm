{
  "cells": [
    {
      "cell_type": "markdown",
      "id": "c4851321",
      "metadata": {
        "id": "c4851321"
      },
      "source": [
        "![PPGI_UFRJ](https://github.com/zavaleta/Fundamentos_DS/blob/main/imagens/ppgi-ufrj.png?raw=1)\n",
        "# **Fundamentos de Ciência de Dados**\n",
        "\n",
        "> Trabalho Final - 2º Período de 2022\n",
        "\n",
        "### **Disponibilizando Dados sobre Resultados Financeiros de Cias Abertas Enriquecidos com Proveniência para a [OBInvest](https://obinvest.org/)**\n",
        "\n",
        "---\n",
        "\n",
        "**Alunos:** Gilberto Gil | Saulo Andrade Almeida | Valquire Jesus\n",
        "\n"
      ]
    },
    {
      "cell_type": "markdown",
      "source": [
        "## **FAIRificação**"
      ],
      "metadata": {
        "id": "tZBqeLEhT_H6"
      },
      "id": "tZBqeLEhT_H6"
    },
    {
      "cell_type": "code",
      "execution_count": 3,
      "id": "z4oia7HvEySA",
      "metadata": {
        "id": "z4oia7HvEySA"
      },
      "outputs": [],
      "source": [
        "#checking version machine architecture, OS, python and all libs used in this notebook\n",
        "import platform as platform\n",
        "import numpy as np\n",
        "import pandas as pd\n",
        "import os\n",
        "import conda\n",
        "import pydot\n",
        "import prov\n",
        "\n",
        "def checkingEnvironmentVersions(details=False):\n",
        "\n",
        "    #definnig version of python and all libs used\n",
        "    HOST_MACHINE_ARCHTECTURE_EXPECTED = 'x86_64'\n",
        "    HOST_MACHINE_OS_EXPECTED = 'Linux'\n",
        "    HOST_MACHINE_PLATFORM = 'Linux-5.15.0-47-generic-x86_64-with-glibc2.31'\n",
        "    CONDA_VERSION_EXPECTED = '4.14.0'\n",
        "    CONDA_DEFAULT_ENV_EXPECTED = 'drecvmenv'\n",
        "    PYTHON_VERSION_EXPECTED = '3.9.12'\n",
        "    NUMPY_LIB_VERSION_EXPECTED = '1.21.5'\n",
        "    PANDAS_LIB_VERSION_EXPECTED = '1.4.2'\n",
        "    PYDOT_LIB_VERSION_EXPECTED = '1.4.2'\n",
        "    PROV_LIB_VERSION_EXPECTED = '2.0.0'\n",
        "    \n",
        "\n",
        "    if details: \n",
        "        print('Host Machine Architecture:', platform.machine())\n",
        "        print('Host Machine OS:', platform.system())\n",
        "        print('Conda Version:', conda.__version__)\n",
        "        print('Conda default env:', os.environ['CONDA_DEFAULT_ENV'])\n",
        "        print('Python Version:', platform.python_version())\n",
        "        print('NumPy Lib Version:', np.__version__)\n",
        "        print('Pandas Lib Version:', pd.__version__)\n",
        "        print('PyDot Lib Version:', pydot.__version__)\n",
        "        print('Prov Lib Version:', prov.__version__)\n",
        "        \n",
        "    #checking versions\n",
        "    try:\n",
        "        #checking Machine Architecute expected\n",
        "        assert platform.machine() == HOST_MACHINE_ARCHTECTURE_EXPECTED\n",
        "\n",
        "        #checking OS expected\n",
        "        assert platform.system() == HOST_MACHINE_OS_EXPECTED\n",
        "        \n",
        "        #checking conda version\n",
        "        assert conda.__version__ == CONDA_VERSION_EXPECTED\n",
        "        \n",
        "        #checking conda default environment\n",
        "        assert os.environ['CONDA_DEFAULT_ENV'] == CONDA_DEFAULT_ENV_EXPECTED    \n",
        "\n",
        "        #checking python version\n",
        "        assert platform.python_version() == PYTHON_VERSION_EXPECTED\n",
        "\n",
        "        #checking numpy lib version\n",
        "        assert np.__version__ == NUMPY_LIB_VERSION_EXPECTED  \n",
        "\n",
        "        #checking Pandas lib version\n",
        "        assert pd.__version__ == PANDAS_LIB_VERSION_EXPECTED\n",
        "        \n",
        "        #checking pydot version\n",
        "        assert pydot.__version__ == PYDOT_LIB_VERSION_EXPECTED\n",
        "        \n",
        "        #checking prov version\n",
        "        assert prov.__version__ == PROV_LIB_VERSION_EXPECTED\n",
        "    except:\n",
        "        #if any assert fail, or something else get wrong during verification\n",
        "        if details: print('Something is wrong!')\n",
        "        return False\n",
        "    else:\n",
        "        #if pass all asserts\n",
        "        if details: print('All versions are correct!')\n",
        "        return True"
      ]
    },
    {
      "cell_type": "markdown",
      "source": [
        "## **Pré-processamento de Dados**"
      ],
      "metadata": {
        "id": "rgNNU7YaUVi1"
      },
      "id": "rgNNU7YaUVi1"
    },
    {
      "cell_type": "code",
      "execution_count": 62,
      "id": "df9be604",
      "metadata": {
        "id": "df9be604"
      },
      "outputs": [],
      "source": [
        "#Utilizado ambiente python 3.9\n",
        "import pandas as pd\n",
        "import numpy as np\n",
        "\n",
        "def loadCsv(path, file):\n",
        "  if path == 'data/cad-emp/':  # condição para fazer leitura do csv cadastro de companias\n",
        "    return pd.read_csv(path+file, sep=';', header=0, encoding=\"ISO-8859-1\")\n",
        "  return pd.read_csv(path+file, sep=';', header=0, encoding=\"ISO-8859-1\", parse_dates=['DT_REFER', 'DT_INI_EXERC', \n",
        "                                                                                       'DT_FIM_EXERC'])\n",
        "\n",
        "def loadCompanyInfo():\n",
        "    return loadCsv(\"data/cad-emp/\", \"cad_cia_aberta.csv\")\n",
        "\n",
        "def allHistoricalYears():\n",
        "    return [2011, 2012, 2013, 2014, 2015, 2016, 2017, 2018, 2019, 2020, 2021]\n",
        "\n",
        "def loadDreItr(years):\n",
        "    tempDF = pd.DataFrame() \n",
        "    for year in years:\n",
        "        tempDF = pd.concat([tempDF, loadCsv(\"data/dre-itr/\",\"itr_cia_aberta_DRE_con_{0}.csv\".format(year))], \n",
        "                           ignore_index=True)\n",
        "    return tempDF\n",
        "\n",
        "def loadDreDfp(years):\n",
        "    tempDF = pd.DataFrame() \n",
        "    for year in years:\n",
        "        tempDF = pd.concat([tempDF, loadCsv(\"data/dre-dfp/\",f'dfp_cia_aberta_DRE_con_{year}.csv')], \n",
        "                           ignore_index=True)\n",
        "    return tempDF\n",
        "\n",
        "def loadAllDreItr():\n",
        "    return loadDreItr(allHistoricalYears())\n",
        "\n",
        "def loadAllDreDfp():\n",
        "    return loadDreDfp(allHistoricalYears())\n",
        "\n",
        "def carregar_datasets():\n",
        "    companyInfoDF = loadCompanyInfo()\n",
        "    dreItrDF = loadAllDreItr()\n",
        "    dreDfpDF = loadAllDreDfp()\n",
        "    return companyInfoDF, dreItrDF, dreDfpDF\n",
        "\n",
        "# faz a limpeza dos datasets cad_cia, dre_itr e dre_dfp e retorna o dataset obinvest\n",
        "def criar_obinvest():\n",
        "  # carrega os datasets \n",
        "  df_cia, df_itr, df_dfp = carregar_datasets()\n",
        "  #\n",
        "  # TRATAMENTO DO DF CAD_CIA\n",
        "  # filtrar as empresas com cadastro ativo - df cad_cia\n",
        "  df_cia = df_cia[df_cia['SIT'] == 'ATIVO']\n",
        "  # deletar colunas desnecessárias\n",
        "  df_cia.drop(['DENOM_SOCIAL', 'DENOM_COMERC', 'DT_REG', 'DT_CONST', 'DT_CANCEL', 'MOTIVO_CANCEL', 'SIT', \n",
        "               'DT_INI_SIT', 'TP_MERC', 'CATEG_REG', 'DT_INI_CATEG', 'SIT_EMISSOR', 'DT_INI_SIT_EMISSOR', \n",
        "               'CONTROLE_ACIONARIO', 'TP_ENDER', 'LOGRADOURO', 'COMPL', 'BAIRRO', 'MUN', 'UF', 'PAIS', \n",
        "               'CEP', 'DDD_TEL', 'TEL', 'DDD_FAX', 'FAX', 'EMAIL', 'TP_RESP', 'RESP', 'DT_INI_RESP', \n",
        "               'LOGRADOURO_RESP', 'COMPL_RESP', 'BAIRRO_RESP', 'MUN_RESP', 'UF_RESP', 'PAIS_RESP', \n",
        "               'CEP_RESP', 'DDD_TEL_RESP', 'TEL_RESP', 'DDD_FAX_RESP', 'FAX_RESP', 'EMAIL_RESP', \n",
        "               'CNPJ_AUDITOR', 'AUDITOR'], axis=1, inplace=True)\n",
        "  # deletar os registros duplicados, que possuem mesmos cnpj e códigos cvm\n",
        "  df_cia.drop_duplicates(subset = ['CNPJ_CIA', 'CD_CVM'], keep = 'last', inplace=True)\n",
        "  #\n",
        "  # FATIAMENTO DO DF ITR\n",
        "  # filtrar últimos informes trimestrais - df itr\n",
        "  df_itr = df_itr[df_itr['ORDEM_EXERC'] == 'ÚLTIMO']\n",
        "  # fazer merge entre cadastro e informe itr, obtendo o df itr com setor - dfs cad_cia e itr\n",
        "  df_itr_setor = pd.merge(df_itr, df_cia, how = 'inner', on = ['CNPJ_CIA', 'CD_CVM']).reset_index(drop=True)\n",
        "  # OBTENÇÃO DO DF TRIMESTRES 1, 2 E 3\n",
        "  # criar o df com informações dos trimestres 1 (1 a 3 mês), 2 (4 a 6 mês) e 3 (6 a 9 mês) - df trim123\n",
        "  df_trim123 = df_itr_setor.loc[lambda df_itr_setor: (df_itr_setor.DT_REFER.dt.month == 3) | \n",
        "                            ((df_itr_setor.DT_REFER.dt.month == 6) & (df_itr_setor.DT_INI_EXERC.dt.month > 3)) | \n",
        "                            ((df_itr_setor.DT_REFER.dt.month == 9) & (df_itr_setor.DT_INI_EXERC.dt.month > 6))]\n",
        "  #\n",
        "  # OBTENÇÃO DO DF ACUMULADO TRIMESTRE 3\n",
        "  # criar o df com informações acumuladas até o trimestre 3, 01/07/ANO a 30/09/ANO - df_acm3\n",
        "  df_acm3 = df_itr_setor.loc[lambda df_itr_setor: ((df_itr_setor.DT_REFER.dt.month == 9) & \n",
        "                                                   (df_itr_setor.DT_INI_EXERC.dt.month <= 6))]\n",
        "  #\n",
        "  # FATIAMENTO DO DF DFP\n",
        "  # filtrar últimos informes anuais - df dfp\n",
        "  df_dfp = df_dfp[df_dfp['ORDEM_EXERC'] == 'ÚLTIMO']\n",
        "  # fazer merge entre cadastro e informe itr, obtendo o df dfp com setor - dfs cad_cia e dfp\n",
        "  df_dfp_setor = pd.merge(df_dfp, df_cia, how = 'inner', on = ['CNPJ_CIA', 'CD_CVM']).reset_index(drop=True)\n",
        "  #\n",
        "  # OBTENÇÃO DO DF ACUMULADO TRIMESTRE 4\n",
        "  # filtrar os informes acumulados no trimestre 4, 01/10/ANO a 31/12/ANO - df acm4\n",
        "  df_acm4 = df_dfp_setor.loc[lambda df_dfp_setor: (df_dfp_setor.DT_REFER.dt.month == 12)]\n",
        "  # fazer o merge entre df acumulado 4 e df acumulado 3, mantendo o df acumulado 4 - df trim4\n",
        "  df_trim4 = pd.merge(df_acm4, df_acm3, how='left', on=['CD_CVM', 'CD_CONTA'], suffixes=['_acm4','_acm3'])\n",
        "  # preencher valores VL_CONTA ausentes com 0, informes que não foram enviados por Cias até o trimestre 3\n",
        "  df_trim4.VL_CONTA_acm3.fillna(value=0, inplace=True)\n",
        "  # calcular o valor do trimestre 4, fazendo a subtração entre acumulado anual e o acumulado do trimestre 3\n",
        "  df_trim4['RESULTADO'] = df_trim4['VL_CONTA_acm4'] - df_trim4['VL_CONTA_acm3']\n",
        "  # deletar colunas desnecessárias\n",
        "  df_trim4.drop(['VL_CONTA_acm4','CNPJ_CIA_acm3', 'DT_REFER_acm3', 'VERSAO_acm3', 'DENOM_CIA_acm3', 'GRUPO_DFP_acm3', \n",
        "                 'MOEDA_acm3', 'ESCALA_MOEDA_acm3', 'ORDEM_EXERC_acm3', 'DT_INI_EXERC_acm3', 'DT_FIM_EXERC_acm3', \n",
        "                 'DS_CONTA_acm3', 'VL_CONTA_acm3', 'ST_CONTA_FIXA_acm3','SETOR_ATIV_acm3'], axis=1, inplace=True)\n",
        "  # renomear as colunas para a concatenação com o df trim123\n",
        "  df_trim4.rename(columns = {'CNPJ_CIA_acm4':'CNPJ_CIA', 'DT_REFER_acm4':'DT_REFER', 'VERSAO_acm4':'VERSAO', \n",
        "                             'DENOM_CIA_acm4':'DENOM_CIA', 'GRUPO_DFP_acm4':'GRUPO_DFP', 'MOEDA_acm4':'MOEDA', \n",
        "                             'ESCALA_MOEDA_acm4':'ESCALA_MOEDA', 'ORDEM_EXERC_acm4':'ORDEM_EXERC', \n",
        "                             'DT_INI_EXERC_acm4':'DT_INI_EXERC', 'DT_FIM_EXERC_acm4':'DT_FIM_EXERC', \n",
        "                             'DS_CONTA_acm4':'DS_CONTA', 'ST_CONTA_FIXA_acm4':'ST_CONTA_FIXA', \n",
        "                             'SETOR_ATIV_acm4':'SETOR_ATIV', 'RESULTADO':'VL_CONTA'}, inplace = True)\n",
        "  #\n",
        "  #CRIAÇÃO DO DF OBINVEST\n",
        "  # criar o df obinvest, concatenando os informes referentes aos 4 trimestres\n",
        "  df_obinvest = pd.concat([df_trim123, df_trim4])\n",
        "  # deletar os registros duplicados\n",
        "  df_obinvest.drop_duplicates(subset = ['CNPJ_CIA', 'CD_CVM', 'CD_CONTA', 'DT_INI_EXERC', 'DT_FIM_EXERC'], \n",
        "                              keep = 'last', inplace=True)\n",
        "  return df_obinvest"
      ]
    },
    {
      "cell_type": "markdown",
      "source": [
        "## **Proveniência de Dados**"
      ],
      "metadata": {
        "id": "jj6eHx-iXV2O"
      },
      "id": "jj6eHx-iXV2O"
    },
    {
      "cell_type": "code",
      "execution_count": 5,
      "id": "d7dfd234",
      "metadata": {
        "id": "d7dfd234"
      },
      "outputs": [],
      "source": [
        "import sys, subprocess, datetime\n",
        "from prov.model import ProvDocument, Namespace\n",
        "from prov.dot import prov_to_dot\n",
        "from IPython.display import Image\n",
        "\n",
        "def createProvenance(agent, entity, activity, graph):\n",
        "    # Creating an empty provenance document\n",
        "    docProv = ProvDocument()\n",
        "\n",
        "    # Declaring namespaces for various prefixes used in the excution of Randon Walk Experiment\n",
        "    docProv.add_namespace('foaf', 'http://xmlns.com/foaf/0.1/')\n",
        "    docProv.add_namespace('prov', 'http://www.w3.org/ns/prov#')\n",
        "    docProv.add_namespace('void', 'http://vocab.deri.ie/void#')\n",
        "    docProv.add_namespace('cvm', 'https://www.gov.br/cvm/pt-br')\n",
        "    docProv.add_namespace('cvm-cademp', 'https://dados.cvm.gov.br/dados/CIA_ABERTA/CAD/DADOS/')\n",
        "    docProv.add_namespace('cvm-dre-itr-2011', 'https://dados.cvm.gov.br/dados/CIA_ABERTA/DOC/ITR/DADOS/')\n",
        "    docProv.add_namespace('cvm-dre-itr-2012', 'https://dados.cvm.gov.br/dados/CIA_ABERTA/DOC/ITR/DADOS/')\n",
        "    docProv.add_namespace('cvm-dre-itr-2013', 'https://dados.cvm.gov.br/dados/CIA_ABERTA/DOC/ITR/DADOS/')\n",
        "    docProv.add_namespace('cvm-dre-itr-2014', 'https://dados.cvm.gov.br/dados/CIA_ABERTA/DOC/ITR/DADOS/')\n",
        "    docProv.add_namespace('cvm-dre-itr-2015', 'https://dados.cvm.gov.br/dados/CIA_ABERTA/DOC/ITR/DADOS/')\n",
        "    docProv.add_namespace('cvm-dre-itr-2016', 'https://dados.cvm.gov.br/dados/CIA_ABERTA/DOC/ITR/DADOS/')\n",
        "    docProv.add_namespace('cvm-dre-itr-2017', 'https://dados.cvm.gov.br/dados/CIA_ABERTA/DOC/ITR/DADOS/')\n",
        "    docProv.add_namespace('cvm-dre-itr-2018', 'https://dados.cvm.gov.br/dados/CIA_ABERTA/DOC/ITR/DADOS/')\n",
        "    docProv.add_namespace('cvm-dre-itr-2019', 'https://dados.cvm.gov.br/dados/CIA_ABERTA/DOC/ITR/DADOS/')\n",
        "    docProv.add_namespace('cvm-dre-itr-2020', 'https://dados.cvm.gov.br/dados/CIA_ABERTA/DOC/ITR/DADOS/')\n",
        "    docProv.add_namespace('cvm-dre-itr-2021', 'https://dados.cvm.gov.br/dados/CIA_ABERTA/DOC/ITR/DADOS/')\n",
        "    docProv.add_namespace('cvm-dre-dfp-2010', 'https://dados.cvm.gov.br/dados/CIA_ABERTA/DOC/DFP/DADOS/')\n",
        "\n",
        "    \n",
        "    \n",
        "    # Creating all entity\n",
        "    entDsCadEmp = docProv.entity('cvm-cademp:cad_cia_aberta.csv', {'prov:label': 'Dataset com dados da empresas listadas na CVM', 'prov:type': 'void:Dataset'})\n",
        "    \n",
        "    entDreItr = docProv.entity('cvm:dre-trimestral', {'prov:label': 'Documrnto que representa o conceito de DREs do tipo Trimestral', 'prov:type': 'foaf:Document'})\n",
        "    entDsDreItr2011 = docProv.entity(\"cvm-dre-itr-2011:itr_cia_aberta_2011.zip\", {'prov:label': 'Dataset com DRE trimestrais, do ano de 2011', 'prov:type': 'void:Dataset'})\n",
        "    docProv.wasDerivedFrom('cvm-dre-itr-2011:itr_cia_aberta_2011.zip', 'cvm:dre-trimestral')\n",
        "    docProv.wasDerivedFrom('cvm-dre-itr-2011:itr_cia_aberta_DRE_con_2011.csv', 'cvm-dre-itr-2011:itr_cia_aberta_2011.zip')\n",
        "    entDsDreItr2012 = docProv.entity(\"cvm-dre-itr-2012:itr_cia_aberta_2012.zip\", {'prov:label': 'Dataset com DRE trimestrais, do ano de 2012', 'prov:type': 'void:Dataset'})\n",
        "    docProv.wasDerivedFrom('cvm-dre-itr-2012:itr_cia_aberta_2012.zip', 'cvm:dre-trimestral')\n",
        "    docProv.wasDerivedFrom('cvm-dre-itr-2012:itr_cia_aberta_DRE_con_2012.csv', 'cvm-dre-itr-2012:itr_cia_aberta_2012.zip')\n",
        "    entDsDreItr2013 = docProv.entity(\"cvm-dre-itr-2013:itr_cia_aberta_2013.zip\", {'prov:label': 'Dataset com DRE trimestrais, do ano de 2013', 'prov:type': 'void:Dataset'})\n",
        "    docProv.wasDerivedFrom('cvm-dre-itr-2013:itr_cia_aberta_2013.zip', 'cvm:dre-trimestral')\n",
        "    docProv.wasDerivedFrom('cvm-dre-itr-2013:itr_cia_aberta_DRE_con_2013.csv', 'cvm-dre-itr-2013:itr_cia_aberta_2013.zip')\n",
        "\n",
        "    \n",
        "    \n",
        "    entDreDfp = docProv.entity('cvm:dre-anual', {'prov:label': 'Documento que representa o conceito de DREs do tipo Anual', 'prov:type': 'foaf:Document'})\n",
        "    entDsDreDfp2010 = docProv.entity(\"cvm-dre-dfp-2010:dfp_cia_aberta_2010.zip\", {'prov:label': 'Dataset com DRE anual, do ano de 2010', 'prov:type': 'void:Dataset'})\n",
        "    docProv.wasDerivedFrom('cvm-dre-dfp-2010:dfp_cia_aberta_2010.zip', 'cvm:dre-anual')\n",
        "    docProv.wasDerivedFrom('cvm-dre-dfp-2010:dfp_cia_aberta_DRE_con_2010.csv', 'cvm-dre-dfp-2010:dfp_cia_aberta_2010.zip')\n",
        "    \n",
        "    \n",
        "\n",
        "    # Creating all Agents  \n",
        "    agntCvm = docProv.agent(\"cvm:CVM\", \n",
        "                            {\"prov:type\":\"prov:Organization\", \"foaf:name\":\"Comissão de Valores Mobiliários\"})\n",
        "    \n",
        "    # create activity of dataset creations\n",
        "    actvCreateDs = docProv.activity(\"cvm:create-dataset\")    \n",
        "    \n",
        "    # Generation\n",
        "    docProv.wasGeneratedBy(entDsCadEmp, actvCreateDs)\n",
        "    docProv.wasGeneratedBy(entDreItr, actvCreateDs)\n",
        "    docProv.wasGeneratedBy(entDreDfp, actvCreateDs)\n",
        "    \n",
        "    docProv.wasAssociatedWith(actvCreateDs, agntCvm)\n",
        "\n",
        "    ### END - Registering Retrospective Provenance \n",
        "\n",
        "    ### Optional outputs ####\n",
        "\n",
        "    #Generating the outup - a  Provenance Graph\n",
        "    dot = prov_to_dot(docProv)\n",
        "    graph = graph+\".png\"\n",
        "    dot.write_png(graph)\n",
        "\n",
        "    #Generating the Serialization - Output XML\n",
        "    docProv.serialize(entity + \".xml\", format='xml') \n",
        "\n",
        "    #Generating the Serialization - Output Turtle\n",
        "    docProv.serialize(entity + \".ttl\", format='rdf', rdf_format='ttl')"
      ]
    },
    {
      "cell_type": "markdown",
      "source": [
        "## **Análise de Dados**"
      ],
      "metadata": {
        "id": "Ds8Kte_9X8Sm"
      },
      "id": "Ds8Kte_9X8Sm"
    },
    {
      "cell_type": "code",
      "execution_count": 58,
      "id": "QHY59ABVFRsq",
      "metadata": {
        "id": "QHY59ABVFRsq"
      },
      "outputs": [],
      "source": [
        "agent    = \"Grupo02-Gil-Saulo-Valquire\"                                         #PROV-Agent\n",
        "entity   = \"DREs-CVM\"                                                           #PROV-Entity\n",
        "activity = \"TrabalhoFinalDisciplinaFundamentoDS-2022-2\"                         #PROV-Activity\n",
        "graph = entity                                                                  #PROV-Graph\n",
        "\n",
        "def main():\n",
        "    if(checkingEnvironmentVersions(True)):\n",
        "        #executeExperiment()\n",
        "        createProvenance(agent, entity, activity, graph)\n",
        "        \n",
        "# main() # condição suspensa para poder rodar no notebook local\n",
        "\n",
        "# Image(graph+\\\".png\\\") # condição suspensa para poder rodar no notebook local"
      ]
    },
    {
      "cell_type": "code",
      "source": [
        "ObInvest = criar_obinvest()"
      ],
      "metadata": {
        "id": "yWzWQts26z5m"
      },
      "id": "yWzWQts26z5m",
      "execution_count": 59,
      "outputs": []
    },
    {
      "cell_type": "code",
      "source": [
        "ObInvest.shape"
      ],
      "metadata": {
        "id": "N5hJH1HA69cq",
        "outputId": "681af2e6-8734-43c4-e592-1199cf56b546",
        "colab": {
          "base_uri": "https://localhost:8080/"
        }
      },
      "id": "N5hJH1HA69cq",
      "execution_count": 60,
      "outputs": [
        {
          "output_type": "execute_result",
          "data": {
            "text/plain": [
              "(449845, 16)"
            ]
          },
          "metadata": {},
          "execution_count": 60
        }
      ]
    },
    {
      "cell_type": "code",
      "source": [
        "ObInvest.isna().value_counts()"
      ],
      "metadata": {
        "id": "_rpJIjd_8lvn",
        "outputId": "a36083aa-931f-401c-b508-22aaf6394402",
        "colab": {
          "base_uri": "https://localhost:8080/"
        }
      },
      "id": "_rpJIjd_8lvn",
      "execution_count": 65,
      "outputs": [
        {
          "output_type": "execute_result",
          "data": {
            "text/plain": [
              "CNPJ_CIA  DT_REFER  VERSAO  DENOM_CIA  CD_CVM  GRUPO_DFP  MOEDA  ESCALA_MOEDA  ORDEM_EXERC  DT_INI_EXERC  DT_FIM_EXERC  CD_CONTA  DS_CONTA  VL_CONTA  ST_CONTA_FIXA  SETOR_ATIV\n",
              "False     False     False   False      False   False      False  False         False        False         False         False     False     False     False          False         449845\n",
              "dtype: int64"
            ]
          },
          "metadata": {},
          "execution_count": 65
        }
      ]
    }
  ],
  "metadata": {
    "colab": {
      "name": "drecvm.ipynb",
      "provenance": []
    },
    "kernelspec": {
      "display_name": "Python 3 (ipykernel)",
      "language": "python",
      "name": "python3"
    },
    "language_info": {
      "codemirror_mode": {
        "name": "ipython",
        "version": 3
      },
      "file_extension": ".py",
      "mimetype": "text/x-python",
      "name": "python",
      "nbconvert_exporter": "python",
      "pygments_lexer": "ipython3",
      "version": "3.9.12"
    }
  },
  "nbformat": 4,
  "nbformat_minor": 5
}