{
  "cells": [
    {
      "cell_type": "markdown",
      "id": "c4851321",
      "metadata": {
        "id": "c4851321"
      },
      "source": [
        "![PPGI_UFRJ](https://github.com/zavaleta/Fundamentos_DS/blob/main/imagens/ppgi-ufrj.png?raw=1)\n",
        "# **Fundamentos de Ciência de Dados**\n",
        "\n",
        "> Trabalho Final - 2º Período de 2022\n",
        "\n",
        "### **Disponibilizando Dados sobre Resultados Financeiros de Cias Abertas Enriquecidos com Proveniência para a [OBInvest](https://obinvest.org/)**\n",
        "\n",
        "---\n",
        "\n",
        "**Alunos:** Gilberto Gil | Saulo Andrade Almeida | Valquire Jesus\n",
        "\n"
      ]
    },
    {
      "cell_type": "markdown",
      "source": [
        "## **FAIRificação**"
      ],
      "metadata": {
        "id": "tZBqeLEhT_H6"
      },
      "id": "tZBqeLEhT_H6"
    },
    {
      "cell_type": "code",
      "execution_count": 41,
      "id": "z4oia7HvEySA",
      "metadata": {
        "id": "z4oia7HvEySA"
      },
      "outputs": [],
      "source": [
        "#checking version machine architecture, OS, python and all libs used in this notebook\n",
        "import platform as platform\n",
        "import numpy as np\n",
        "import pandas as pd\n",
        "import os\n",
        "import conda\n",
        "import pydot\n",
        "import prov\n",
        "\n",
        "def checkingEnvironmentVersions(details=False):\n",
        "\n",
        "    #definnig version of python and all libs used\n",
        "    HOST_MACHINE_ARCHTECTURE_EXPECTED = 'x86_64'\n",
        "    HOST_MACHINE_OS_EXPECTED = 'Linux'\n",
        "    HOST_MACHINE_PLATFORM = 'Linux-5.15.0-47-generic-x86_64-with-glibc2.31'\n",
        "    CONDA_VERSION_EXPECTED = '4.14.0'\n",
        "    CONDA_DEFAULT_ENV_EXPECTED = 'drecvmenv'\n",
        "    PYTHON_VERSION_EXPECTED = '3.9.12'\n",
        "    NUMPY_LIB_VERSION_EXPECTED = '1.21.5'\n",
        "    PANDAS_LIB_VERSION_EXPECTED = '1.4.2'\n",
        "    PYDOT_LIB_VERSION_EXPECTED = '1.4.2'\n",
        "    PROV_LIB_VERSION_EXPECTED = '2.0.0'\n",
        "    \n",
        "\n",
        "    if details: \n",
        "        print('Host Machine Architecture:', platform.machine())\n",
        "        print('Host Machine OS:', platform.system())\n",
        "        print('Conda Version:', conda.__version__)\n",
        "        print('Conda default env:', os.environ['CONDA_DEFAULT_ENV'])\n",
        "        print('Python Version:', platform.python_version())\n",
        "        print('NumPy Lib Version:', np.__version__)\n",
        "        print('Pandas Lib Version:', pd.__version__)\n",
        "        print('PyDot Lib Version:', pydot.__version__)\n",
        "        print('Prov Lib Version:', prov.__version__)\n",
        "        \n",
        "    #checking versions\n",
        "    try:\n",
        "        #checking Machine Architecute expected\n",
        "        assert platform.machine() == HOST_MACHINE_ARCHTECTURE_EXPECTED\n",
        "\n",
        "        #checking OS expected\n",
        "        assert platform.system() == HOST_MACHINE_OS_EXPECTED\n",
        "        \n",
        "        #checking conda version\n",
        "        assert conda.__version__ == CONDA_VERSION_EXPECTED\n",
        "        \n",
        "        #checking conda default environment\n",
        "        assert os.environ['CONDA_DEFAULT_ENV'] == CONDA_DEFAULT_ENV_EXPECTED    \n",
        "\n",
        "        #checking python version\n",
        "        assert platform.python_version() == PYTHON_VERSION_EXPECTED\n",
        "\n",
        "        #checking numpy lib version\n",
        "        assert np.__version__ == NUMPY_LIB_VERSION_EXPECTED  \n",
        "\n",
        "        #checking Pandas lib version\n",
        "        assert pd.__version__ == PANDAS_LIB_VERSION_EXPECTED\n",
        "        \n",
        "        #checking pydot version\n",
        "        assert pydot.__version__ == PYDOT_LIB_VERSION_EXPECTED\n",
        "        \n",
        "        #checking prov version\n",
        "        assert prov.__version__ == PROV_LIB_VERSION_EXPECTED\n",
        "    except:\n",
        "        #if any assert fail, or something else get wrong during verification\n",
        "        if details: print('Something is wrong!')\n",
        "        return False\n",
        "    else:\n",
        "        #if pass all asserts\n",
        "        if details: print('All versions are correct!')\n",
        "        return True"
      ]
    },
    {
      "cell_type": "markdown",
      "source": [
        "## **Pré-processamento de Dados**"
      ],
      "metadata": {
        "id": "rgNNU7YaUVi1"
      },
      "id": "rgNNU7YaUVi1"
    },
    {
      "cell_type": "code",
      "execution_count": 42,
      "id": "df9be604",
      "metadata": {
        "id": "df9be604"
      },
      "outputs": [],
      "source": [
        "#Utilizado ambiente python 3.9\n",
        "import pandas as pd\n",
        "import numpy as np\n",
        "\n",
        "def loadCsv(path, file):\n",
        "  if path == 'data/cad-emp/':  # condição para fazer leitura do csv cadastro de companias\n",
        "    return pd.read_csv(path+file, sep=';', header=0, encoding=\"ISO-8859-1\")\n",
        "  return pd.read_csv(path+file, sep=';', header=0, encoding=\"ISO-8859-1\", parse_dates=['DT_REFER', 'DT_INI_EXERC', \n",
        "                                                                                       'DT_FIM_EXERC'])\n",
        "\n",
        "def loadCompanyInfo():\n",
        "    return loadCsv(\"data/cad-emp/\", \"cad_cia_aberta.csv\")\n",
        "\n",
        "def allHistoricalYears():\n",
        "    return [2011, 2012, 2013, 2014, 2015, 2016, 2017, 2018, 2019, 2020, 2021]\n",
        "\n",
        "def loadDreItr(years):\n",
        "    tempDF = pd.DataFrame() \n",
        "    for year in years:\n",
        "        tempDF = pd.concat([tempDF, loadCsv(\"data/dre-itr/\",\"itr_cia_aberta_DRE_con_{0}.csv\".format(year))], \n",
        "                           ignore_index=True)\n",
        "    return tempDF\n",
        "\n",
        "def loadDreDfp(years):\n",
        "    tempDF = pd.DataFrame() \n",
        "    for year in years:\n",
        "        tempDF = pd.concat([tempDF, loadCsv(\"data/dre-dfp/\",f'dfp_cia_aberta_DRE_con_{year}.csv')], \n",
        "                           ignore_index=True)\n",
        "    return tempDF\n",
        "\n",
        "def loadAllDreItr():\n",
        "    return loadDreItr(allHistoricalYears())\n",
        "\n",
        "def loadAllDreDfp():\n",
        "    return loadDreDfp(allHistoricalYears())\n",
        "\n",
        "def carregar_datasets():\n",
        "    companyInfoDF = loadCompanyInfo()\n",
        "    dreItrDF = loadAllDreItr()\n",
        "    dreDfpDF = loadAllDreDfp()\n",
        "    return companyInfoDF, dreItrDF, dreDfpDF\n",
        "\n",
        "# faz a limpeza dos datasets cad_cia, dre_itr e dre_dfp e retorna o dataset obinvest\n",
        "def criar_obinvest():\n",
        "  # carrega os datasets \n",
        "  df_cia, df_itr, df_dfp = carregar_datasets()\n",
        "  #\n",
        "  # TRATAMENTO DO DF CAD_CIA\n",
        "  # filtrar as empresas com cadastro ativo - df cad_cia\n",
        "  df_cia = df_cia[df_cia['SIT'] == 'ATIVO']\n",
        "  # deletar colunas desnecessárias\n",
        "  df_cia.drop(['DENOM_SOCIAL', 'DENOM_COMERC', 'DT_REG', 'DT_CONST', 'DT_CANCEL', 'MOTIVO_CANCEL', 'SIT', \n",
        "               'DT_INI_SIT', 'TP_MERC', 'CATEG_REG', 'DT_INI_CATEG', 'SIT_EMISSOR', 'DT_INI_SIT_EMISSOR', \n",
        "               'CONTROLE_ACIONARIO', 'TP_ENDER', 'LOGRADOURO', 'COMPL', 'BAIRRO', 'MUN', 'UF', 'PAIS', \n",
        "               'CEP', 'DDD_TEL', 'TEL', 'DDD_FAX', 'FAX', 'EMAIL', 'TP_RESP', 'RESP', 'DT_INI_RESP', \n",
        "               'LOGRADOURO_RESP', 'COMPL_RESP', 'BAIRRO_RESP', 'MUN_RESP', 'UF_RESP', 'PAIS_RESP', \n",
        "               'CEP_RESP', 'DDD_TEL_RESP', 'TEL_RESP', 'DDD_FAX_RESP', 'FAX_RESP', 'EMAIL_RESP', \n",
        "               'CNPJ_AUDITOR', 'AUDITOR'], axis=1, inplace=True)\n",
        "  # deletar os registros duplicados, que possuem mesmos cnpj e códigos cvm\n",
        "  df_cia.drop_duplicates(subset = ['CNPJ_CIA', 'CD_CVM'], keep = 'last', inplace=True)\n",
        "  #\n",
        "  # FATIAMENTO DO DF ITR\n",
        "  # filtrar últimos informes trimestrais - df itr\n",
        "  df_itr = df_itr[df_itr['ORDEM_EXERC'] == 'ÚLTIMO']\n",
        "  # fazer merge entre cadastro e informe itr, obtendo o df itr com setor - dfs cad_cia e itr\n",
        "  df_itr_setor = pd.merge(df_itr, df_cia, how = 'inner', on = ['CNPJ_CIA', 'CD_CVM']).reset_index(drop=True)\n",
        "  # OBTENÇÃO DO DF TRIMESTRES 1, 2 E 3\n",
        "  # criar o df com informações dos trimestres 1 (1 a 3 mês), 2 (4 a 6 mês) e 3 (6 a 9 mês) - df trim123\n",
        "  df_trim123 = df_itr_setor.loc[lambda df_itr_setor: (df_itr_setor.DT_REFER.dt.month == 3) | \n",
        "                            ((df_itr_setor.DT_REFER.dt.month == 6) & (df_itr_setor.DT_INI_EXERC.dt.month > 3)) | \n",
        "                            ((df_itr_setor.DT_REFER.dt.month == 9) & (df_itr_setor.DT_INI_EXERC.dt.month > 6))]\n",
        "  #\n",
        "  # OBTENÇÃO DO DF ACUMULADO TRIMESTRE 3\n",
        "  # criar o df com informações acumuladas até o trimestre 3, 01/07/ANO a 30/09/ANO - df_acm3\n",
        "  df_acm3 = df_itr_setor.loc[lambda df_itr_setor: ((df_itr_setor.DT_REFER.dt.month == 9) & \n",
        "                                                   (df_itr_setor.DT_INI_EXERC.dt.month <= 6))]\n",
        "  #\n",
        "  # FATIAMENTO DO DF DFP\n",
        "  # filtrar últimos informes anuais - df dfp\n",
        "  df_dfp = df_dfp[df_dfp['ORDEM_EXERC'] == 'ÚLTIMO']\n",
        "  # fazer merge entre cadastro e informe itr, obtendo o df dfp com setor - dfs cad_cia e dfp\n",
        "  df_dfp_setor = pd.merge(df_dfp, df_cia, how = 'inner', on = ['CNPJ_CIA', 'CD_CVM']).reset_index(drop=True)\n",
        "  #\n",
        "  # OBTENÇÃO DO DF ACUMULADO TRIMESTRE 4\n",
        "  # filtrar os informes acumulados no trimestre 4, 01/10/ANO a 31/12/ANO - df acm4\n",
        "  df_acm4 = df_dfp_setor.loc[lambda df_dfp_setor: (df_dfp_setor.DT_REFER.dt.month == 12)]\n",
        "  # fazer o merge entre df acumulado 4 e df acumulado 3, mantendo o df acumulado 4 - df trim4\n",
        "  df_trim4 = pd.merge(df_acm4, df_acm3, how='left', on=['CD_CVM', 'CD_CONTA'], suffixes=['_acm4','_acm3'])\n",
        "  # preencher valores VL_CONTA ausentes com 0, informes que não foram enviados por Cias até o trimestre 3\n",
        "  df_trim4.VL_CONTA_acm3.fillna(value=0, inplace=True)\n",
        "  # calcular o valor do trimestre 4, fazendo a subtração entre acumulado anual e o acumulado do trimestre 3\n",
        "  df_trim4['RESULTADO'] = df_trim4['VL_CONTA_acm4'] - df_trim4['VL_CONTA_acm3']\n",
        "  # deletar colunas desnecessárias\n",
        "  df_trim4.drop(['VL_CONTA_acm4','CNPJ_CIA_acm3', 'DT_REFER_acm3', 'VERSAO_acm3', 'DENOM_CIA_acm3', 'GRUPO_DFP_acm3', \n",
        "                 'MOEDA_acm3', 'ESCALA_MOEDA_acm3', 'ORDEM_EXERC_acm3', 'DT_INI_EXERC_acm3', 'DT_FIM_EXERC_acm3', \n",
        "                 'DS_CONTA_acm3', 'VL_CONTA_acm3', 'ST_CONTA_FIXA_acm3','SETOR_ATIV_acm3'], axis=1, inplace=True)\n",
        "  # renomear as colunas para a concatenação com o df trim123\n",
        "  df_trim4.rename(columns = {'CNPJ_CIA_acm4':'CNPJ_CIA', 'DT_REFER_acm4':'DT_REFER', 'VERSAO_acm4':'VERSAO', \n",
        "                             'DENOM_CIA_acm4':'DENOM_CIA', 'GRUPO_DFP_acm4':'GRUPO_DFP', 'MOEDA_acm4':'MOEDA', \n",
        "                             'ESCALA_MOEDA_acm4':'ESCALA_MOEDA', 'ORDEM_EXERC_acm4':'ORDEM_EXERC', \n",
        "                             'DT_INI_EXERC_acm4':'DT_INI_EXERC', 'DT_FIM_EXERC_acm4':'DT_FIM_EXERC', \n",
        "                             'DS_CONTA_acm4':'DS_CONTA', 'ST_CONTA_FIXA_acm4':'ST_CONTA_FIXA', \n",
        "                             'SETOR_ATIV_acm4':'SETOR_ATIV', 'RESULTADO':'VL_CONTA'}, inplace = True)\n",
        "  #\n",
        "  # CRIAÇÃO DO DF OBINVEST\n",
        "  # criar o df obinvest, concatenando os informes referentes aos 4 trimestres\n",
        "  df_obinvest = pd.concat([df_trim123, df_trim4])\n",
        "  # deletar os registros duplicados\n",
        "  df_obinvest.drop_duplicates(subset = ['CNPJ_CIA', 'CD_CVM', 'CD_CONTA', 'DT_INI_EXERC', 'DT_FIM_EXERC'], \n",
        "                              keep = 'last', inplace=True)\n",
        "  #\n",
        "  # PADRONIZAÇÃO DA COLUNA VL_CONTA\n",
        "  # dividir por 1000 os valores em que a escala moeda é unidade\n",
        "  df_obinvest['VL_CONTA']  = df_obinvest.apply(lambda x: x.VL_CONTA/1000 if x.ESCALA_MOEDA == 'UNIDADE' \n",
        "                                         else x.VL_CONTA, axis = 1)\n",
        "  # renomear os dados da coluna escala moeda para o valor mil\n",
        "  df_obinvest.ESCALA_MOEDA.replace('UNIDADE', 'MIL', inplace=True)\n",
        "  #\n",
        "  return df_obinvest"
      ]
    },
    {
      "cell_type": "markdown",
      "source": [
        "## **Proveniência de Dados**"
      ],
      "metadata": {
        "id": "jj6eHx-iXV2O"
      },
      "id": "jj6eHx-iXV2O"
    },
    {
      "cell_type": "code",
      "execution_count": 43,
      "id": "d7dfd234",
      "metadata": {
        "id": "d7dfd234"
      },
      "outputs": [],
      "source": [
        "import sys, subprocess, datetime\n",
        "from prov.model import ProvDocument, Namespace\n",
        "from prov.dot import prov_to_dot\n",
        "from IPython.display import Image\n",
        "\n",
        "def createProvenance(agent, entity, activity, graph):\n",
        "    # Creating an empty provenance document\n",
        "    docProv = ProvDocument()\n",
        "\n",
        "    # Declaring namespaces for various prefixes used in the excution of Randon Walk Experiment\n",
        "    docProv.add_namespace('foaf', 'http://xmlns.com/foaf/0.1/')\n",
        "    docProv.add_namespace('prov', 'http://www.w3.org/ns/prov#')\n",
        "    docProv.add_namespace('void', 'http://vocab.deri.ie/void#')\n",
        "    docProv.add_namespace('cvm', 'https://www.gov.br/cvm/pt-br')\n",
        "    docProv.add_namespace('cvm-cademp', 'https://dados.cvm.gov.br/dados/CIA_ABERTA/CAD/DADOS/')\n",
        "    docProv.add_namespace('cvm-dre-itr-2011', 'https://dados.cvm.gov.br/dados/CIA_ABERTA/DOC/ITR/DADOS/')\n",
        "    docProv.add_namespace('cvm-dre-itr-2012', 'https://dados.cvm.gov.br/dados/CIA_ABERTA/DOC/ITR/DADOS/')\n",
        "    docProv.add_namespace('cvm-dre-itr-2013', 'https://dados.cvm.gov.br/dados/CIA_ABERTA/DOC/ITR/DADOS/')\n",
        "    docProv.add_namespace('cvm-dre-itr-2014', 'https://dados.cvm.gov.br/dados/CIA_ABERTA/DOC/ITR/DADOS/')\n",
        "    docProv.add_namespace('cvm-dre-itr-2015', 'https://dados.cvm.gov.br/dados/CIA_ABERTA/DOC/ITR/DADOS/')\n",
        "    docProv.add_namespace('cvm-dre-itr-2016', 'https://dados.cvm.gov.br/dados/CIA_ABERTA/DOC/ITR/DADOS/')\n",
        "    docProv.add_namespace('cvm-dre-itr-2017', 'https://dados.cvm.gov.br/dados/CIA_ABERTA/DOC/ITR/DADOS/')\n",
        "    docProv.add_namespace('cvm-dre-itr-2018', 'https://dados.cvm.gov.br/dados/CIA_ABERTA/DOC/ITR/DADOS/')\n",
        "    docProv.add_namespace('cvm-dre-itr-2019', 'https://dados.cvm.gov.br/dados/CIA_ABERTA/DOC/ITR/DADOS/')\n",
        "    docProv.add_namespace('cvm-dre-itr-2020', 'https://dados.cvm.gov.br/dados/CIA_ABERTA/DOC/ITR/DADOS/')\n",
        "    docProv.add_namespace('cvm-dre-itr-2021', 'https://dados.cvm.gov.br/dados/CIA_ABERTA/DOC/ITR/DADOS/')\n",
        "    docProv.add_namespace('cvm-dre-dfp-2010', 'https://dados.cvm.gov.br/dados/CIA_ABERTA/DOC/DFP/DADOS/')\n",
        "\n",
        "    \n",
        "    \n",
        "    # Creating all entity\n",
        "    entDsCadEmp = docProv.entity('cvm-cademp:cad_cia_aberta.csv', {'prov:label': 'Dataset com dados da empresas listadas na CVM', 'prov:type': 'void:Dataset'})\n",
        "    \n",
        "    entDreItr = docProv.entity('cvm:dre-trimestral', {'prov:label': 'Documrnto que representa o conceito de DREs do tipo Trimestral', 'prov:type': 'foaf:Document'})\n",
        "    entDsDreItr2011 = docProv.entity(\"cvm-dre-itr-2011:itr_cia_aberta_2011.zip\", {'prov:label': 'Dataset com DRE trimestrais, do ano de 2011', 'prov:type': 'void:Dataset'})\n",
        "    docProv.wasDerivedFrom('cvm-dre-itr-2011:itr_cia_aberta_2011.zip', 'cvm:dre-trimestral')\n",
        "    docProv.wasDerivedFrom('cvm-dre-itr-2011:itr_cia_aberta_DRE_con_2011.csv', 'cvm-dre-itr-2011:itr_cia_aberta_2011.zip')\n",
        "    entDsDreItr2012 = docProv.entity(\"cvm-dre-itr-2012:itr_cia_aberta_2012.zip\", {'prov:label': 'Dataset com DRE trimestrais, do ano de 2012', 'prov:type': 'void:Dataset'})\n",
        "    docProv.wasDerivedFrom('cvm-dre-itr-2012:itr_cia_aberta_2012.zip', 'cvm:dre-trimestral')\n",
        "    docProv.wasDerivedFrom('cvm-dre-itr-2012:itr_cia_aberta_DRE_con_2012.csv', 'cvm-dre-itr-2012:itr_cia_aberta_2012.zip')\n",
        "    entDsDreItr2013 = docProv.entity(\"cvm-dre-itr-2013:itr_cia_aberta_2013.zip\", {'prov:label': 'Dataset com DRE trimestrais, do ano de 2013', 'prov:type': 'void:Dataset'})\n",
        "    docProv.wasDerivedFrom('cvm-dre-itr-2013:itr_cia_aberta_2013.zip', 'cvm:dre-trimestral')\n",
        "    docProv.wasDerivedFrom('cvm-dre-itr-2013:itr_cia_aberta_DRE_con_2013.csv', 'cvm-dre-itr-2013:itr_cia_aberta_2013.zip')\n",
        "\n",
        "    \n",
        "    \n",
        "    entDreDfp = docProv.entity('cvm:dre-anual', {'prov:label': 'Documento que representa o conceito de DREs do tipo Anual', 'prov:type': 'foaf:Document'})\n",
        "    entDsDreDfp2010 = docProv.entity(\"cvm-dre-dfp-2010:dfp_cia_aberta_2010.zip\", {'prov:label': 'Dataset com DRE anual, do ano de 2010', 'prov:type': 'void:Dataset'})\n",
        "    docProv.wasDerivedFrom('cvm-dre-dfp-2010:dfp_cia_aberta_2010.zip', 'cvm:dre-anual')\n",
        "    docProv.wasDerivedFrom('cvm-dre-dfp-2010:dfp_cia_aberta_DRE_con_2010.csv', 'cvm-dre-dfp-2010:dfp_cia_aberta_2010.zip')\n",
        "    \n",
        "    \n",
        "\n",
        "    # Creating all Agents  \n",
        "    agntCvm = docProv.agent(\"cvm:CVM\", \n",
        "                            {\"prov:type\":\"prov:Organization\", \"foaf:name\":\"Comissão de Valores Mobiliários\"})\n",
        "    \n",
        "    # create activity of dataset creations\n",
        "    actvCreateDs = docProv.activity(\"cvm:create-dataset\")    \n",
        "    \n",
        "    # Generation\n",
        "    docProv.wasGeneratedBy(entDsCadEmp, actvCreateDs)\n",
        "    docProv.wasGeneratedBy(entDreItr, actvCreateDs)\n",
        "    docProv.wasGeneratedBy(entDreDfp, actvCreateDs)\n",
        "    \n",
        "    docProv.wasAssociatedWith(actvCreateDs, agntCvm)\n",
        "\n",
        "    ### END - Registering Retrospective Provenance \n",
        "\n",
        "    ### Optional outputs ####\n",
        "\n",
        "    #Generating the outup - a  Provenance Graph\n",
        "    dot = prov_to_dot(docProv)\n",
        "    graph = graph+\".png\"\n",
        "    dot.write_png(graph)\n",
        "\n",
        "    #Generating the Serialization - Output XML\n",
        "    docProv.serialize(entity + \".xml\", format='xml') \n",
        "\n",
        "    #Generating the Serialization - Output Turtle\n",
        "    docProv.serialize(entity + \".ttl\", format='rdf', rdf_format='ttl')"
      ]
    },
    {
      "cell_type": "markdown",
      "source": [
        "## **Análise de Dados**"
      ],
      "metadata": {
        "id": "Ds8Kte_9X8Sm"
      },
      "id": "Ds8Kte_9X8Sm"
    },
    {
      "cell_type": "code",
      "execution_count": 44,
      "id": "QHY59ABVFRsq",
      "metadata": {
        "id": "QHY59ABVFRsq"
      },
      "outputs": [],
      "source": [
        "agent    = \"Grupo02-Gil-Saulo-Valquire\"                                         #PROV-Agent\n",
        "entity   = \"DREs-CVM\"                                                           #PROV-Entity\n",
        "activity = \"TrabalhoFinalDisciplinaFundamentoDS-2022-2\"                         #PROV-Activity\n",
        "graph = entity                                                                  #PROV-Graph\n",
        "\n",
        "def main():\n",
        "    if(checkingEnvironmentVersions(True)):\n",
        "        #executeExperiment()\n",
        "        createProvenance(agent, entity, activity, graph)\n",
        "        \n",
        "# main() # condição suspensa para poder rodar no notebook local\n",
        "\n",
        "# Image(graph+\\\".png\\\") # condição suspensa para poder rodar no notebook local"
      ]
    },
    {
      "cell_type": "code",
      "source": [
        "ObInvest = criar_obinvest()"
      ],
      "metadata": {
        "id": "yWzWQts26z5m"
      },
      "id": "yWzWQts26z5m",
      "execution_count": 45,
      "outputs": []
    },
    {
      "cell_type": "code",
      "source": [
        "ObInvest.shape"
      ],
      "metadata": {
        "colab": {
          "base_uri": "https://localhost:8080/"
        },
        "id": "N5hJH1HA69cq",
        "outputId": "0c182f7d-b81b-4a4b-e5ae-388a425433f9"
      },
      "id": "N5hJH1HA69cq",
      "execution_count": 46,
      "outputs": [
        {
          "output_type": "execute_result",
          "data": {
            "text/plain": [
              "(449845, 16)"
            ]
          },
          "metadata": {},
          "execution_count": 46
        }
      ]
    },
    {
      "cell_type": "code",
      "source": [
        "ObInvest.isnull().sum()"
      ],
      "metadata": {
        "colab": {
          "base_uri": "https://localhost:8080/"
        },
        "id": "_rpJIjd_8lvn",
        "outputId": "07b5965f-cbc9-4af6-9270-1a43337d4a8a"
      },
      "id": "_rpJIjd_8lvn",
      "execution_count": 47,
      "outputs": [
        {
          "output_type": "execute_result",
          "data": {
            "text/plain": [
              "CNPJ_CIA         0\n",
              "DT_REFER         0\n",
              "VERSAO           0\n",
              "DENOM_CIA        0\n",
              "CD_CVM           0\n",
              "GRUPO_DFP        0\n",
              "MOEDA            0\n",
              "ESCALA_MOEDA     0\n",
              "ORDEM_EXERC      0\n",
              "DT_INI_EXERC     0\n",
              "DT_FIM_EXERC     0\n",
              "CD_CONTA         0\n",
              "DS_CONTA         0\n",
              "VL_CONTA         0\n",
              "ST_CONTA_FIXA    0\n",
              "SETOR_ATIV       0\n",
              "dtype: int64"
            ]
          },
          "metadata": {},
          "execution_count": 47
        }
      ]
    },
    {
      "cell_type": "code",
      "source": [
        "ObInvest.describe()"
      ],
      "metadata": {
        "id": "ivfqNe5SH5Ak",
        "outputId": "869e4f25-1b68-4b4c-8780-e5bf215b0e30",
        "colab": {
          "base_uri": "https://localhost:8080/",
          "height": 300
        }
      },
      "id": "ivfqNe5SH5Ak",
      "execution_count": 48,
      "outputs": [
        {
          "output_type": "execute_result",
          "data": {
            "text/plain": [
              "              VERSAO         CD_CVM      VL_CONTA\n",
              "count  449845.000000  449845.000000  4.498450e+05\n",
              "mean        1.242290   16229.804706 -6.099880e+10\n",
              "std         0.556448    7221.152127  4.091218e+13\n",
              "min         1.000000      94.000000 -2.744000e+16\n",
              "25%         1.000000   10472.000000 -6.384000e+03\n",
              "50%         1.000000   19453.000000  0.000000e+00\n",
              "75%         1.000000   21520.000000  9.550490e+02\n",
              "max         8.000000   26930.000000  5.096851e+08"
            ],
            "text/html": [
              "\n",
              "  <div id=\"df-0e196a2f-0b3a-40eb-991a-477a45e75573\">\n",
              "    <div class=\"colab-df-container\">\n",
              "      <div>\n",
              "<style scoped>\n",
              "    .dataframe tbody tr th:only-of-type {\n",
              "        vertical-align: middle;\n",
              "    }\n",
              "\n",
              "    .dataframe tbody tr th {\n",
              "        vertical-align: top;\n",
              "    }\n",
              "\n",
              "    .dataframe thead th {\n",
              "        text-align: right;\n",
              "    }\n",
              "</style>\n",
              "<table border=\"1\" class=\"dataframe\">\n",
              "  <thead>\n",
              "    <tr style=\"text-align: right;\">\n",
              "      <th></th>\n",
              "      <th>VERSAO</th>\n",
              "      <th>CD_CVM</th>\n",
              "      <th>VL_CONTA</th>\n",
              "    </tr>\n",
              "  </thead>\n",
              "  <tbody>\n",
              "    <tr>\n",
              "      <th>count</th>\n",
              "      <td>449845.000000</td>\n",
              "      <td>449845.000000</td>\n",
              "      <td>4.498450e+05</td>\n",
              "    </tr>\n",
              "    <tr>\n",
              "      <th>mean</th>\n",
              "      <td>1.242290</td>\n",
              "      <td>16229.804706</td>\n",
              "      <td>-6.099880e+10</td>\n",
              "    </tr>\n",
              "    <tr>\n",
              "      <th>std</th>\n",
              "      <td>0.556448</td>\n",
              "      <td>7221.152127</td>\n",
              "      <td>4.091218e+13</td>\n",
              "    </tr>\n",
              "    <tr>\n",
              "      <th>min</th>\n",
              "      <td>1.000000</td>\n",
              "      <td>94.000000</td>\n",
              "      <td>-2.744000e+16</td>\n",
              "    </tr>\n",
              "    <tr>\n",
              "      <th>25%</th>\n",
              "      <td>1.000000</td>\n",
              "      <td>10472.000000</td>\n",
              "      <td>-6.384000e+03</td>\n",
              "    </tr>\n",
              "    <tr>\n",
              "      <th>50%</th>\n",
              "      <td>1.000000</td>\n",
              "      <td>19453.000000</td>\n",
              "      <td>0.000000e+00</td>\n",
              "    </tr>\n",
              "    <tr>\n",
              "      <th>75%</th>\n",
              "      <td>1.000000</td>\n",
              "      <td>21520.000000</td>\n",
              "      <td>9.550490e+02</td>\n",
              "    </tr>\n",
              "    <tr>\n",
              "      <th>max</th>\n",
              "      <td>8.000000</td>\n",
              "      <td>26930.000000</td>\n",
              "      <td>5.096851e+08</td>\n",
              "    </tr>\n",
              "  </tbody>\n",
              "</table>\n",
              "</div>\n",
              "      <button class=\"colab-df-convert\" onclick=\"convertToInteractive('df-0e196a2f-0b3a-40eb-991a-477a45e75573')\"\n",
              "              title=\"Convert this dataframe to an interactive table.\"\n",
              "              style=\"display:none;\">\n",
              "        \n",
              "  <svg xmlns=\"http://www.w3.org/2000/svg\" height=\"24px\"viewBox=\"0 0 24 24\"\n",
              "       width=\"24px\">\n",
              "    <path d=\"M0 0h24v24H0V0z\" fill=\"none\"/>\n",
              "    <path d=\"M18.56 5.44l.94 2.06.94-2.06 2.06-.94-2.06-.94-.94-2.06-.94 2.06-2.06.94zm-11 1L8.5 8.5l.94-2.06 2.06-.94-2.06-.94L8.5 2.5l-.94 2.06-2.06.94zm10 10l.94 2.06.94-2.06 2.06-.94-2.06-.94-.94-2.06-.94 2.06-2.06.94z\"/><path d=\"M17.41 7.96l-1.37-1.37c-.4-.4-.92-.59-1.43-.59-.52 0-1.04.2-1.43.59L10.3 9.45l-7.72 7.72c-.78.78-.78 2.05 0 2.83L4 21.41c.39.39.9.59 1.41.59.51 0 1.02-.2 1.41-.59l7.78-7.78 2.81-2.81c.8-.78.8-2.07 0-2.86zM5.41 20L4 18.59l7.72-7.72 1.47 1.35L5.41 20z\"/>\n",
              "  </svg>\n",
              "      </button>\n",
              "      \n",
              "  <style>\n",
              "    .colab-df-container {\n",
              "      display:flex;\n",
              "      flex-wrap:wrap;\n",
              "      gap: 12px;\n",
              "    }\n",
              "\n",
              "    .colab-df-convert {\n",
              "      background-color: #E8F0FE;\n",
              "      border: none;\n",
              "      border-radius: 50%;\n",
              "      cursor: pointer;\n",
              "      display: none;\n",
              "      fill: #1967D2;\n",
              "      height: 32px;\n",
              "      padding: 0 0 0 0;\n",
              "      width: 32px;\n",
              "    }\n",
              "\n",
              "    .colab-df-convert:hover {\n",
              "      background-color: #E2EBFA;\n",
              "      box-shadow: 0px 1px 2px rgba(60, 64, 67, 0.3), 0px 1px 3px 1px rgba(60, 64, 67, 0.15);\n",
              "      fill: #174EA6;\n",
              "    }\n",
              "\n",
              "    [theme=dark] .colab-df-convert {\n",
              "      background-color: #3B4455;\n",
              "      fill: #D2E3FC;\n",
              "    }\n",
              "\n",
              "    [theme=dark] .colab-df-convert:hover {\n",
              "      background-color: #434B5C;\n",
              "      box-shadow: 0px 1px 3px 1px rgba(0, 0, 0, 0.15);\n",
              "      filter: drop-shadow(0px 1px 2px rgba(0, 0, 0, 0.3));\n",
              "      fill: #FFFFFF;\n",
              "    }\n",
              "  </style>\n",
              "\n",
              "      <script>\n",
              "        const buttonEl =\n",
              "          document.querySelector('#df-0e196a2f-0b3a-40eb-991a-477a45e75573 button.colab-df-convert');\n",
              "        buttonEl.style.display =\n",
              "          google.colab.kernel.accessAllowed ? 'block' : 'none';\n",
              "\n",
              "        async function convertToInteractive(key) {\n",
              "          const element = document.querySelector('#df-0e196a2f-0b3a-40eb-991a-477a45e75573');\n",
              "          const dataTable =\n",
              "            await google.colab.kernel.invokeFunction('convertToInteractive',\n",
              "                                                     [key], {});\n",
              "          if (!dataTable) return;\n",
              "\n",
              "          const docLinkHtml = 'Like what you see? Visit the ' +\n",
              "            '<a target=\"_blank\" href=https://colab.research.google.com/notebooks/data_table.ipynb>data table notebook</a>'\n",
              "            + ' to learn more about interactive tables.';\n",
              "          element.innerHTML = '';\n",
              "          dataTable['output_type'] = 'display_data';\n",
              "          await google.colab.output.renderOutput(dataTable, element);\n",
              "          const docLink = document.createElement('div');\n",
              "          docLink.innerHTML = docLinkHtml;\n",
              "          element.appendChild(docLink);\n",
              "        }\n",
              "      </script>\n",
              "    </div>\n",
              "  </div>\n",
              "  "
            ]
          },
          "metadata": {},
          "execution_count": 48
        }
      ]
    },
    {
      "cell_type": "code",
      "source": [
        "ObInvest.columns"
      ],
      "metadata": {
        "id": "Bts87LDkIGtW",
        "outputId": "776ef408-3dca-443f-ecaf-94235171f76e",
        "colab": {
          "base_uri": "https://localhost:8080/"
        }
      },
      "id": "Bts87LDkIGtW",
      "execution_count": 49,
      "outputs": [
        {
          "output_type": "execute_result",
          "data": {
            "text/plain": [
              "Index(['CNPJ_CIA', 'DT_REFER', 'VERSAO', 'DENOM_CIA', 'CD_CVM', 'GRUPO_DFP',\n",
              "       'MOEDA', 'ESCALA_MOEDA', 'ORDEM_EXERC', 'DT_INI_EXERC', 'DT_FIM_EXERC',\n",
              "       'CD_CONTA', 'DS_CONTA', 'VL_CONTA', 'ST_CONTA_FIXA', 'SETOR_ATIV'],\n",
              "      dtype='object')"
            ]
          },
          "metadata": {},
          "execution_count": 49
        }
      ]
    },
    {
      "cell_type": "code",
      "source": [
        "ObInvest.DT_REFER.value_counts()"
      ],
      "metadata": {
        "id": "OQZc5UDWI62L",
        "outputId": "2a535f97-d4cf-46b6-dc06-859e965705cb",
        "colab": {
          "base_uri": "https://localhost:8080/"
        }
      },
      "id": "OQZc5UDWI62L",
      "execution_count": 50,
      "outputs": [
        {
          "output_type": "execute_result",
          "data": {
            "text/plain": [
              "2021-12-31    15093\n",
              "2021-09-30    14524\n",
              "2020-12-31    14406\n",
              "2021-03-31    14316\n",
              "2021-06-30    14244\n",
              "2019-12-31    12542\n",
              "2020-09-30    12228\n",
              "2020-03-31    12042\n",
              "2020-06-30    12022\n",
              "2018-12-31    10955\n",
              "2017-12-31    10605\n",
              "2019-09-30    10601\n",
              "2019-03-31    10430\n",
              "2016-12-31    10388\n",
              "2019-06-30    10354\n",
              "2018-09-30    10165\n",
              "2018-03-31    10006\n",
              "2017-09-30     9987\n",
              "2018-06-30     9978\n",
              "2015-12-31     9850\n",
              "2017-03-31     9780\n",
              "2017-06-30     9769\n",
              "2016-09-30     9633\n",
              "2014-12-31     9539\n",
              "2016-06-30     9379\n",
              "2015-09-30     9324\n",
              "2012-12-31     9255\n",
              "2016-03-31     9205\n",
              "2015-06-30     9162\n",
              "2013-12-31     9133\n",
              "2015-03-31     9124\n",
              "2014-09-30     9048\n",
              "2011-12-31     9029\n",
              "2014-06-30     8851\n",
              "2013-09-30     8768\n",
              "2014-03-31     8754\n",
              "2013-06-30     8565\n",
              "2012-09-30     8494\n",
              "2011-09-30     8433\n",
              "2012-06-30     8428\n",
              "2013-03-31     8427\n",
              "2012-03-31     8363\n",
              "2011-06-30     8348\n",
              "2011-03-31     8270\n",
              "2014-03-30       28\n",
              "Name: DT_REFER, dtype: int64"
            ]
          },
          "metadata": {},
          "execution_count": 50
        }
      ]
    },
    {
      "cell_type": "code",
      "source": [
        "ObInvest.ESCALA_MOEDA.value_counts()"
      ],
      "metadata": {
        "id": "ZihoKFYTJ1Kw",
        "outputId": "ecb1ea4b-5ee0-47e5-b5b3-12eefbfd45e2",
        "colab": {
          "base_uri": "https://localhost:8080/"
        }
      },
      "id": "ZihoKFYTJ1Kw",
      "execution_count": 51,
      "outputs": [
        {
          "output_type": "execute_result",
          "data": {
            "text/plain": [
              "MIL    449845\n",
              "Name: ESCALA_MOEDA, dtype: int64"
            ]
          },
          "metadata": {},
          "execution_count": 51
        }
      ]
    }
  ],
  "metadata": {
    "colab": {
      "name": "drecvm.ipynb",
      "provenance": []
    },
    "kernelspec": {
      "display_name": "Python 3 (ipykernel)",
      "language": "python",
      "name": "python3"
    },
    "language_info": {
      "codemirror_mode": {
        "name": "ipython",
        "version": 3
      },
      "file_extension": ".py",
      "mimetype": "text/x-python",
      "name": "python",
      "nbconvert_exporter": "python",
      "pygments_lexer": "ipython3",
      "version": "3.9.12"
    }
  },
  "nbformat": 4,
  "nbformat_minor": 5
}